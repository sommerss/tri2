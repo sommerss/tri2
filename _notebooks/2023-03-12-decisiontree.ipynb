{
 "cells": [
  {
   "attachments": {},
   "cell_type": "markdown",
   "metadata": {},
   "source": [
    "#  Unit 2.2/2.3 pandas work\n",
    "- toc: true\n",
    "- image: /images/python.png\n",
    "- categories: [pandas]\n",
    "- type: ap"
   ]
  },
  {
   "cell_type": "code",
   "execution_count": 5,
   "metadata": {},
   "outputs": [],
   "source": [
    "from sklearn.datasets import fetch_california_housing\n",
    "import pandas as pd\n",
    "\n",
    "california = fetch_california_housing()\n",
    "\n",
    "df = pd.DataFrame(california.data, columns=california.feature_names)\n",
    "df['target'] = california.target\n"
   ]
  },
  {
   "cell_type": "code",
   "execution_count": 6,
   "metadata": {},
   "outputs": [
    {
     "name": "stdout",
     "output_type": "stream",
     "text": [
      "Mean Squared Error: 0.5305677824766748\n"
     ]
    }
   ],
   "source": [
    "import seaborn as sns\n",
    "from sklearn.linear_model import LinearRegression\n",
    "from sklearn.model_selection import train_test_split\n",
    "from sklearn.metrics import mean_squared_error\n",
    "\n",
    "# Load the dataset\n",
    "from sklearn.datasets import fetch_california_housing\n",
    "import pandas as pd\n",
    "california = fetch_california_housing()\n",
    "df = pd.DataFrame(california.data, columns=california.feature_names)\n",
    "df['target'] = california.target\n",
    "\n",
    "# Split the data into training and testing sets\n",
    "X_train, X_test, y_train, y_test = train_test_split(df.drop('target', axis=1), df['target'], test_size=0.3, random_state=42)\n",
    "\n",
    "# Create the linear regression model\n",
    "reg = LinearRegression()\n",
    "\n",
    "# Train the model on the training set\n",
    "reg.fit(X_train, y_train)\n",
    "\n",
    "# Make predictions on the testing set\n",
    "y_pred = reg.predict(X_test)\n",
    "\n",
    "# Calculate the mean squared error of the model\n",
    "mse = mean_squared_error(y_test, y_pred)\n",
    "print('Mean Squared Error:', mse)\n"
   ]
  },
  {
   "cell_type": "code",
   "execution_count": 35,
   "metadata": {},
   "outputs": [
    {
     "name": "stderr",
     "output_type": "stream",
     "text": [
      "/Users/disvs/opt/anaconda3/lib/python3.9/site-packages/sklearn/base.py:439: UserWarning: X does not have valid feature names, but DecisionTreeClassifier was fitted with feature names\n",
      "  warnings.warn(\n"
     ]
    },
    {
     "name": "stdout",
     "output_type": "stream",
     "text": [
      "Accuracy: 0.7533914728682171\n",
      "do NOT buy- it is not a good decision!\n",
      "this house is either too old, too expensive, or in an overpopulated area.\n"
     ]
    }
   ],
   "source": [
    "import seaborn as sns\n",
    "from sklearn.tree import DecisionTreeClassifier\n",
    "from sklearn.model_selection import train_test_split\n",
    "from sklearn.metrics import accuracy_score\n",
    "\n",
    "# Load the dataset\n",
    "from sklearn.datasets import fetch_california_housing\n",
    "import pandas as pd\n",
    "california = fetch_california_housing()\n",
    "df = pd.DataFrame(california.data, columns=california.feature_names)\n",
    "df['target'] = california.target\n",
    "\n",
    "# make sure to define the target (max earnings that the person wants in the area of the house they want to buy)\n",
    "threshold = 2.5 # in units of 100,000 dollars\n",
    "df['target_binary'] = (df['target'] >= threshold).astype(int)\n",
    "\n",
    "# split the data into training and testing sets\n",
    "X_train, X_test, y_train, y_test = train_test_split(df[['MedInc', 'Population', 'HouseAge']], df['target_binary'], test_size=0.3, random_state=42)\n",
    "\n",
    "# create the decision tree classifier model\n",
    "dt = DecisionTreeClassifier()\n",
    "\n",
    "# give the model the training set so it knows what to do \n",
    "dt.fit(X_train, y_train)\n",
    "\n",
    "# use test set to make predictions\n",
    "y_pred = dt.predict(X_test)\n",
    "\n",
    "# find out how accurate it is \n",
    "accuracy = accuracy_score(y_test, y_pred)\n",
    "print('Accuracy:', accuracy)\n",
    "\n",
    "# use the model to answer the question (instance) should i buy a house in this area?\n",
    "new_instance = [[1.4, 5000, 20]] # median income, population, house age- \n",
    "## the median income shows how much people usually make in that area\n",
    "# and when it is below the threshold (aka the budget), it makes sense to buy (as long as the house isnt too old)\n",
    "prediction = dt.predict(new_instance)\n",
    "if prediction == 1:\n",
    "    print('yes buy!')\n",
    "else:\n",
    "    print('do NOT buy- it is not a good decision!')\n",
    "\n",
    "response = input(\"wanna know why? (yes/no) \")\n",
    "if response == \"yes\":\n",
    "    print(\"this house is either too old, too expensive, or in an overpopulated area.\")\n",
    "else:\n",
    "    print(\"ok, bye! thanks!\")\n",
    "\n"
   ]
  },
  {
   "attachments": {},
   "cell_type": "markdown",
   "metadata": {},
   "source": [
    "## BELOW is going to be the information for my pandas dataset!"
   ]
  },
  {
   "cell_type": "code",
   "execution_count": 26,
   "metadata": {},
   "outputs": [
    {
     "name": "stdout",
     "output_type": "stream",
     "text": [
      "            method  number  orbital_period   mass  distance  year\n",
      "0  Radial Velocity       1         269.300   7.10     77.40  2006\n",
      "1  Radial Velocity       1         874.774   2.21     56.95  2008\n",
      "2  Radial Velocity       1         763.000   2.60     19.84  2011\n",
      "3  Radial Velocity       1         326.030  19.40    110.62  2007\n",
      "4  Radial Velocity       1         516.220  10.50    119.47  2009\n",
      "\n",
      "-----------max and min-----------\n",
      "\n",
      "              method  number  orbital_period  mass  distance  year\n",
      "321  Radial Velocity       1          2371.0  25.0     37.05  2008\n",
      "\n",
      "             method  number  orbital_period    mass  distance  year\n",
      "46  Radial Velocity       1          3.2357  0.0036      1.35  2012\n",
      "\n",
      "-----------median-----------\n",
      "              method  number  orbital_period  mass  distance  year\n",
      "347  Radial Velocity       2          572.40  1.26     35.59  2003\n",
      "556  Radial Velocity       1          456.46  1.26     52.63  2004\n",
      "600  Radial Velocity       1         1311.00  1.26     33.29  2002\n",
      "\n",
      "-----------mode-----------\n",
      "\n",
      "              method  number  orbital_period  mass  distance  year\n",
      "45   Radial Velocity       1         380.800   1.8     20.21  2010\n",
      "226  Radial Velocity       1         227.000   1.8     44.15  2002\n",
      "285  Radial Velocity       1         912.000   1.8    121.07  2011\n",
      "363  Radial Velocity       3          51.645   1.8     64.56  2003\n",
      "400  Radial Velocity       1         436.900   1.8    150.38  2011\n",
      "509  Radial Velocity       1         521.000   1.8    114.15  2011\n",
      "\n",
      "-----------mean-----------\n",
      "\n",
      "Empty DataFrame\n",
      "Columns: [method, number, orbital_period, mass, distance, year]\n",
      "Index: []\n"
     ]
    },
    {
     "name": "stderr",
     "output_type": "stream",
     "text": [
      "/var/folders/sv/x_7f_68x4vg6tfvg084_dn400000gp/T/ipykernel_50345/290606554.py:19: FutureWarning: Unlike other reduction functions (e.g. `skew`, `kurtosis`), the default behavior of `mode` typically preserves the axis it acts along. In SciPy 1.11.0, this behavior will change: the default value of `keepdims` will become False, the `axis` over which the statistic is taken will be eliminated, and the value None will no longer be accepted. Set `keepdims` to True or False to avoid this warning.\n",
      "  mode_mass = mode(planets_data.mass)\n"
     ]
    }
   ],
   "source": [
    "import seaborn as sns\n",
    "from scipy.stats import mode\n",
    "planets_data = sns.load_dataset('planets')\n",
    "print(planets_data.head())\n",
    "\n",
    "print()\n",
    "print(\"-----------max and min-----------\")\n",
    "print()\n",
    "\n",
    "print(planets_data[planets_data.mass == planets_data.mass.max()])\n",
    "print()\n",
    "print(planets_data[planets_data.mass == planets_data.mass.min()])\n",
    "print()\n",
    "print(\"-----------median-----------\")\n",
    "print(planets_data[planets_data.mass == planets_data.mass.median()])\n",
    "print()\n",
    "print(\"-----------mode-----------\")\n",
    "print()\n",
    "mode_mass = mode(planets_data.mass)\n",
    "print(planets_data[planets_data.mass == mode_mass.mode[0]])\n",
    "\n"
   ]
  }
 ],
 "metadata": {
  "kernelspec": {
   "display_name": "base",
   "language": "python",
   "name": "python3"
  },
  "language_info": {
   "codemirror_mode": {
    "name": "ipython",
    "version": 3
   },
   "file_extension": ".py",
   "mimetype": "text/x-python",
   "name": "python",
   "nbconvert_exporter": "python",
   "pygments_lexer": "ipython3",
   "version": "3.9.12"
  },
  "orig_nbformat": 4
 },
 "nbformat": 4,
 "nbformat_minor": 2
}
